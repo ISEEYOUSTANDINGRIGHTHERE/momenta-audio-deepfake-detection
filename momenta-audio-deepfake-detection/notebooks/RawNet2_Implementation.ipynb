{
 "cells": [
  {
   "cell_type": "code",
   "execution_count": null,
   "id": "f9797c9b-992e-455c-bfba-a06f32f3f514",
   "metadata": {},
   "outputs": [],
   "source": [
    "import os\n",
    "import librosa\n",
    "import matplotlib.pyplot as plt\n",
    "import numpy as np\n",
    "\n",
    "AUDIO_DIR = 'data/for-original/for-original/training/real'\n",
    "sample_file = os.path.join(AUDIO_DIR, 'file1.wav')\n",
    "audio, sr = librosa.load(sample_file, sr=16000)\n",
    "plt.figure(figsize=(12, 4))\n",
    "plt.plot(audio)\n",
    "plt.title(f\"Waveform: {os.path.basename(sample_file)}\")\n",
    "plt.xlabel(\"Time\")\n",
    "plt.ylabel(\"Amplitude\")\n",
    "plt.show()\n",
    "\n",
    "print(f\"Sampling Rate: {sr}\")\n",
    "print(f\"Duration: {len(audio)/sr:.2f} seconds\")\n"
   ]
  }
 ],
 "metadata": {
  "kernelspec": {
   "display_name": "Python 3 (ipykernel)",
   "language": "python",
   "name": "python3"
  },
  "language_info": {
   "codemirror_mode": {
    "name": "ipython",
    "version": 3
   },
   "file_extension": ".py",
   "mimetype": "text/x-python",
   "name": "python",
   "nbconvert_exporter": "python",
   "pygments_lexer": "ipython3",
   "version": "3.13.0"
  }
 },
 "nbformat": 4,
 "nbformat_minor": 5
}
